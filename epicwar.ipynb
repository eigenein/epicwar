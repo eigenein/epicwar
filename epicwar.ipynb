{
 "cells": [
  {
   "cell_type": "code",
   "execution_count": 14,
   "metadata": {
    "collapsed": true
   },
   "outputs": [],
   "source": [
    "import datetime\n",
    "import json\n",
    "import pathlib\n",
    "\n",
    "import numpy\n",
    "import scipy.stats\n",
    "\n",
    "from matplotlib import pyplot\n",
    "%matplotlib inline"
   ]
  },
  {
   "cell_type": "code",
   "execution_count": 45,
   "metadata": {
    "collapsed": false
   },
   "outputs": [
    {
     "name": "stdout",
     "output_type": "stream",
     "text": [
      "2 archives.\n"
     ]
    }
   ],
   "source": [
    "# Loading Mozilla HARs.\n",
    "archives = [\n",
    "    json.load(archive.open(\"rt\", encoding=\"utf-8\"))\n",
    "    for archive in pathlib.Path().glob(\"Archive *.json\")\n",
    "]\n",
    "print(\"%s archives.\" % len(archives))"
   ]
  },
  {
   "cell_type": "markdown",
   "metadata": {},
   "source": [
    "### Request Delay Analysis"
   ]
  },
  {
   "cell_type": "code",
   "execution_count": 62,
   "metadata": {
    "collapsed": false
   },
   "outputs": [
    {
     "name": "stdout",
     "output_type": "stream",
     "text": [
      "Min: 0.00100016593933.\n",
      "Max: 1.59200000763.\n"
     ]
    },
    {
     "data": {
      "image/png": "[encoded data removed]",
      "text/plain": [
       "<matplotlib.figure.Figure at 0x1092c7780>"
      ]
     },
     "metadata": {},
     "output_type": "display_data"
    },
    {
     "name": "stdout",
     "output_type": "stream",
     "text": [
      "Distribution params: (0.93625467820589447, 1.0092033070953008e-06, 0.038028431671132297).\n"
     ]
    }
   ],
   "source": [
    "x = numpy.concatenate([\n",
    "    numpy.diff([\n",
    "        datetime.datetime.strptime(entry[\"startedDateTime\"][:23], \"%Y-%m-%dT%H:%M:%S.%f\").timestamp()\n",
    "        for entry in archive[\"log\"][\"entries\"]\n",
    "    ])\n",
    "    for archive in archives\n",
    "])\n",
    "\n",
    "# Get rid of 5% of the lowest and the largest values.\n",
    "x.sort()\n",
    "x = x[(x.shape[0] * 5 // 100):(x.shape[0] * 95 // 100)]\n",
    "print(\"Min: %s.\" % x.min())\n",
    "print(\"Max: %s.\" % x.max())\n",
    "\n",
    "space = numpy.linspace(0.0, 1.6, 20)\n",
    "params = scipy.stats.t.fit(numpy.concatenate((x, -x)))\n",
    "\n",
    "pyplot.hist(x, bins=40, normed=True)\n",
    "pyplot.plot(space, scipy.stats.t(*params).pdf(space))\n",
    "pyplot.show()\n",
    "\n",
    "print(\"Distribution params: %s.\" % (params, ))"
   ]
  }
 ],
 "metadata": {
  "kernelspec": {
   "display_name": "Python 3",
   "language": "python",
   "name": "python3"
  },
  "language_info": {
   "codemirror_mode": {
    "name": "ipython",
    "version": 3
   },
   "file_extension": ".py",
   "mimetype": "text/x-python",
   "name": "python",
   "nbconvert_exporter": "python",
   "pygments_lexer": "ipython3",
   "version": "3.5.1"
  }
 },
 "nbformat": 4,
 "nbformat_minor": 0
}
